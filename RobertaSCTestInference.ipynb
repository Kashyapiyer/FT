{
  "nbformat": 4,
  "nbformat_minor": 0,
  "metadata": {
    "colab": {
      "provenance": []
    },
    "kernelspec": {
      "name": "python3",
      "display_name": "Python 3"
    },
    "language_info": {
      "name": "python"
    }
  },
  "cells": [
    {
      "cell_type": "code",
      "execution_count": 1,
      "metadata": {
        "colab": {
          "base_uri": "https://localhost:8080/"
        },
        "id": "VOZeXzUdUjCG",
        "outputId": "8f205c40-5993-4899-dafd-43c71700de43"
      },
      "outputs": [
        {
          "output_type": "stream",
          "name": "stdout",
          "text": [
            "Mounted at /content/drive\n"
          ]
        }
      ],
      "source": [
        "from google.colab import drive\n",
        "drive.mount('/content/drive')"
      ]
    },
    {
      "cell_type": "code",
      "source": [
        "import gc, torch\n",
        "gc.collect()\n",
        "torch.cuda.empty_cache()"
      ],
      "metadata": {
        "id": "sqEgF1qiiVIp"
      },
      "execution_count": 2,
      "outputs": []
    },
    {
      "cell_type": "code",
      "source": [
        "dpath = \"/content/drive/MyDrive/rbrtatxscripts/\"\n",
        "rpath = f\"{dpath}requirements.txt\"\n",
        "!pip install -q -r {rpath}"
      ],
      "metadata": {
        "colab": {
          "base_uri": "https://localhost:8080/"
        },
        "id": "w3qYy1k3UnXN",
        "outputId": "d745766b-e7de-4653-bbfe-32534a45b96c"
      },
      "execution_count": 3,
      "outputs": [
        {
          "output_type": "stream",
          "name": "stdout",
          "text": [
            "  Preparing metadata (setup.py) ... \u001b[?25l\u001b[?25hdone\n",
            "\u001b[2K   \u001b[90m━━━━━━━━━━━━━━━━━━━━━━━━━━━━━━━━━━━━━━━━\u001b[0m \u001b[32m480.6/480.6 kB\u001b[0m \u001b[31m8.6 MB/s\u001b[0m eta \u001b[36m0:00:00\u001b[0m\n",
            "\u001b[2K   \u001b[90m━━━━━━━━━━━━━━━━━━━━━━━━━━━━━━━━━━━━━━━━\u001b[0m \u001b[32m84.0/84.0 kB\u001b[0m \u001b[31m5.2 MB/s\u001b[0m eta \u001b[36m0:00:00\u001b[0m\n",
            "\u001b[2K   \u001b[90m━━━━━━━━━━━━━━━━━━━━━━━━━━━━━━━━━━━━━━━━\u001b[0m \u001b[32m116.3/116.3 kB\u001b[0m \u001b[31m7.8 MB/s\u001b[0m eta \u001b[36m0:00:00\u001b[0m\n",
            "\u001b[2K   \u001b[90m━━━━━━━━━━━━━━━━━━━━━━━━━━━━━━━━━━━━━━━━\u001b[0m \u001b[32m179.3/179.3 kB\u001b[0m \u001b[31m12.5 MB/s\u001b[0m eta \u001b[36m0:00:00\u001b[0m\n",
            "\u001b[2K   \u001b[90m━━━━━━━━━━━━━━━━━━━━━━━━━━━━━━━━━━━━━━━━\u001b[0m \u001b[32m134.8/134.8 kB\u001b[0m \u001b[31m8.4 MB/s\u001b[0m eta \u001b[36m0:00:00\u001b[0m\n",
            "\u001b[2K   \u001b[90m━━━━━━━━━━━━━━━━━━━━━━━━━━━━━━━━━━━━━━━━\u001b[0m \u001b[32m194.1/194.1 kB\u001b[0m \u001b[31m12.8 MB/s\u001b[0m eta \u001b[36m0:00:00\u001b[0m\n",
            "\u001b[?25h  Building wheel for rouge_score (setup.py) ... \u001b[?25l\u001b[?25hdone\n",
            "\u001b[31mERROR: pip's dependency resolver does not currently take into account all the packages that are installed. This behaviour is the source of the following dependency conflicts.\n",
            "gcsfs 2024.10.0 requires fsspec==2024.10.0, but you have fsspec 2024.9.0 which is incompatible.\u001b[0m\u001b[31m\n",
            "\u001b[0m"
          ]
        }
      ]
    },
    {
      "cell_type": "code",
      "source": [
        "mdldir = \"/content/drive/MyDrive/rbrtftmdlnew\""
      ],
      "metadata": {
        "id": "fzdnRkImUu9E"
      },
      "execution_count": 4,
      "outputs": []
    },
    {
      "cell_type": "code",
      "source": [
        "!pip show transformers"
      ],
      "metadata": {
        "colab": {
          "base_uri": "https://localhost:8080/"
        },
        "id": "JtJuN-RUhW7Q",
        "outputId": "90605417-f028-496d-d4d7-0e3b0455c492"
      },
      "execution_count": 5,
      "outputs": [
        {
          "output_type": "stream",
          "name": "stdout",
          "text": [
            "Name: transformers\n",
            "Version: 4.47.1\n",
            "Summary: State-of-the-art Machine Learning for JAX, PyTorch and TensorFlow\n",
            "Home-page: https://github.com/huggingface/transformers\n",
            "Author: The Hugging Face team (past and future) with the help of all our contributors (https://github.com/huggingface/transformers/graphs/contributors)\n",
            "Author-email: transformers@huggingface.co\n",
            "License: Apache 2.0 License\n",
            "Location: /usr/local/lib/python3.10/dist-packages\n",
            "Requires: filelock, huggingface-hub, numpy, packaging, pyyaml, regex, requests, safetensors, tokenizers, tqdm\n",
            "Required-by: peft, sentence-transformers\n"
          ]
        }
      ]
    },
    {
      "cell_type": "code",
      "source": [
        "import os, sys, warnings\n",
        "import torch, random\n",
        "import pandas as pd\n",
        "import numpy as np\n",
        "import torch\n",
        "import torch.nn as nn\n",
        "import time\n",
        "from transformers import AutoTokenizer, RobertaForSequenceClassification\n",
        "\n",
        "def intializeseed(seedvalue=42):\n",
        "    torch.manual_seed(seedvalue)\n",
        "    torch.cuda.manual_seed(seedvalue)\n",
        "    torch.cuda.manual_seed_all(seedvalue)\n",
        "    torch.backends.cudnn.benchmark = True\n",
        "    torch.backends.cudnn.deterministic = True\n",
        "    np.random.seed(seedvalue)\n",
        "    random.seed(seedvalue)\n",
        "    warnings.filterwarnings('ignore')\n",
        "\n",
        "def robertatoxicityanalysis(contextstr,mdldir=\"/content/drive/MyDrive/rbrtftmdlnew\",seedvalue=42,threshold='0.020',max_position_embeeding=514,type_vocab_size=1,num_labels=2):\n",
        "    try :\n",
        "      max_length = 256\n",
        "      if contextstr:\n",
        "          intializeseed(seedvalue)\n",
        "          device = torch.device('cuda' if torch.cuda.is_available() else 'cpu')\n",
        "\n",
        "          model = RobertaForSequenceClassification.from_pretrained(mdldir,\n",
        "                                                                  num_labels=num_labels,\n",
        "                                                                  ).to(device)\n",
        "          model.eval()\n",
        "          tokenizer = AutoTokenizer.from_pretrained(mdldir)\n",
        "          max_length = 256\n",
        "          inputs = tokenizer(contextstr,return_tensors=\"pt\",padding='max_length', truncation=True)\n",
        "          #inputs = tokenizer(contextstr, return_tensors=\"pt\")\n",
        "          validationresponse={}\n",
        "          threshold = str(threshold)\n",
        "          with torch.no_grad():\n",
        "              outputs = model(input_ids=inputs['input_ids'], attention_mask=inputs['attention_mask'])\n",
        "              logitsobserved = abs(outputs.logits)\n",
        "              print(f\"Logits observed: {logitsobserved}\")\n",
        "              argmaxprediction = logitsobserved.argmax()\n",
        "              #argmaxprediction = torch.argmax(logitsobserved, dim=1)\n",
        "              print(f\"Observed argmaxprediction: {argmaxprediction}\")\n",
        "              predictedclass = argmaxprediction.item()\n",
        "              print(f\"Predicted class : {predictedclass}\")\n",
        "              cnf_interval = torch.abs(logitsobserved[0][1] - logitsobserved[0][0])\n",
        "\n",
        "              cnf_intstr = f\"{cnf_interval.item():.3f}\"\n",
        "              print(f\"Confidence interval: {cnf_interval}\")\n",
        "\n",
        "              validationresponse['evaluationlbl'] = predictedclass\n",
        "              validationresponse['cnf_intr'] = cnf_intstr\n",
        "              validationresponse['validationinputstr'] = contextstr\n",
        "\n",
        "              cnfthresholdanalysis = (cnf_intstr >= threshold)\n",
        "              validationresponse['thresholdanalysis'] = cnfthresholdanalysis\n",
        "              if cnfthresholdanalysis:\n",
        "                if predictedclass == 0:\n",
        "                    validationresponse['predictionresult'] = 'Toxic'\n",
        "                    return validationresponse\n",
        "                else:\n",
        "                    validationresponse['predictionresult'] = 'Non-Toxic'\n",
        "                    return validationresponse\n",
        "              else:\n",
        "                validationresponse['predictionresult'] = 'Uncertain'\n",
        "                return validationresponse\n",
        "\n",
        "    except Exception as e:\n",
        "        return (f\"Encountered error while performing inference: {e}\")\n",
        "        sys.exit(1)"
      ],
      "metadata": {
        "id": "4vcTH6XBb-Eu"
      },
      "execution_count": 29,
      "outputs": []
    },
    {
      "cell_type": "code",
      "source": [
        "robertatoxicityanalysis(contextstr=\"You worst fellow\")"
      ],
      "metadata": {
        "colab": {
          "base_uri": "https://localhost:8080/"
        },
        "id": "ZGR5SHW94k-n",
        "outputId": "08da24f1-aad2-445f-d0e4-e170d43f6012"
      },
      "execution_count": 30,
      "outputs": [
        {
          "output_type": "stream",
          "name": "stderr",
          "text": [
            "Some weights of RobertaForSequenceClassification were not initialized from the model checkpoint at /content/drive/MyDrive/rbrtftmdlnew and are newly initialized: ['classifier.dense.bias', 'classifier.dense.weight', 'classifier.out_proj.bias', 'classifier.out_proj.weight']\n",
            "You should probably TRAIN this model on a down-stream task to be able to use it for predictions and inference.\n"
          ]
        },
        {
          "output_type": "stream",
          "name": "stdout",
          "text": [
            "Logits observed: tensor([[0.1253, 0.0370]])\n",
            "Observed argmaxprediction: 0\n",
            "Predicted class : 0\n",
            "Confidence interval: 0.08828370273113251\n"
          ]
        },
        {
          "output_type": "execute_result",
          "data": {
            "text/plain": [
              "{'evaluationlbl': 0,\n",
              " 'cnf_intr': '0.088',\n",
              " 'validationinputstr': 'You worst fellow',\n",
              " 'thresholdanalysis': True,\n",
              " 'predictionresult': 'Toxic'}"
            ]
          },
          "metadata": {},
          "execution_count": 30
        }
      ]
    },
    {
      "cell_type": "code",
      "source": [
        "#with logits\n",
        "robertatoxicityanalysis(contextstr=\"You worst fellow\")"
      ],
      "metadata": {
        "colab": {
          "base_uri": "https://localhost:8080/"
        },
        "id": "3GDqBcjGdRNP",
        "outputId": "e6caeafb-9f4b-4190-b16b-6b23c5ad7f7d"
      },
      "execution_count": 25,
      "outputs": [
        {
          "output_type": "stream",
          "name": "stderr",
          "text": [
            "Some weights of RobertaForSequenceClassification were not initialized from the model checkpoint at /content/drive/MyDrive/rbrtftmdlnew and are newly initialized: ['classifier.dense.bias', 'classifier.dense.weight', 'classifier.out_proj.bias', 'classifier.out_proj.weight']\n",
            "You should probably TRAIN this model on a down-stream task to be able to use it for predictions and inference.\n"
          ]
        },
        {
          "output_type": "stream",
          "name": "stdout",
          "text": [
            "Logits observed: tensor([[0.1253, 0.0370]])\n",
            "Observed argmaxprediction: tensor([0])\n",
            "Predicted class : 0\n",
            "Confidence interval: 0.08828370273113251\n"
          ]
        },
        {
          "output_type": "execute_result",
          "data": {
            "text/plain": [
              "{'evaluationlbl': 0,\n",
              " 'cnf_intr': '0.088',\n",
              " 'validationinputstr': 'You worst fellow',\n",
              " 'thresholdanalysis': True,\n",
              " 'predictionresult': 'Toxic'}"
            ]
          },
          "metadata": {},
          "execution_count": 25
        }
      ]
    },
    {
      "cell_type": "code",
      "source": [
        "robertatoxicityanalysis(contextstr=\"You worst fellow\")"
      ],
      "metadata": {
        "colab": {
          "base_uri": "https://localhost:8080/"
        },
        "id": "-vNQ0Mc3j4qe",
        "outputId": "5b96c87c-fdd9-47d6-dabc-604d34a952f1"
      },
      "execution_count": 32,
      "outputs": [
        {
          "output_type": "stream",
          "name": "stderr",
          "text": [
            "Some weights of RobertaForSequenceClassification were not initialized from the model checkpoint at /content/drive/MyDrive/rbrtftmdlnew and are newly initialized: ['classifier.dense.bias', 'classifier.dense.weight', 'classifier.out_proj.bias', 'classifier.out_proj.weight']\n",
            "You should probably TRAIN this model on a down-stream task to be able to use it for predictions and inference.\n"
          ]
        },
        {
          "output_type": "stream",
          "name": "stdout",
          "text": [
            "Logits observed: tensor([[0.1253, 0.0370]])\n",
            "Observed argmaxprediction: 0\n",
            "Predicted class : 0\n",
            "Confidence interval: 0.08828370273113251\n"
          ]
        },
        {
          "output_type": "execute_result",
          "data": {
            "text/plain": [
              "{'evaluationlbl': 0,\n",
              " 'cnf_intr': '0.088',\n",
              " 'validationinputstr': 'You worst fellow',\n",
              " 'thresholdanalysis': True,\n",
              " 'predictionresult': 'Toxic'}"
            ]
          },
          "metadata": {},
          "execution_count": 32
        }
      ]
    },
    {
      "cell_type": "code",
      "source": [
        "robertatoxicityanalysis(contextstr=\"You are a good person\")"
      ],
      "metadata": {
        "colab": {
          "base_uri": "https://localhost:8080/"
        },
        "id": "RDqIcvt_kAVh",
        "outputId": "4afb9181-58a6-4534-9492-61638655557d"
      },
      "execution_count": 31,
      "outputs": [
        {
          "output_type": "stream",
          "name": "stderr",
          "text": [
            "Some weights of RobertaForSequenceClassification were not initialized from the model checkpoint at /content/drive/MyDrive/rbrtftmdlnew and are newly initialized: ['classifier.dense.bias', 'classifier.dense.weight', 'classifier.out_proj.bias', 'classifier.out_proj.weight']\n",
            "You should probably TRAIN this model on a down-stream task to be able to use it for predictions and inference.\n"
          ]
        },
        {
          "output_type": "stream",
          "name": "stdout",
          "text": [
            "Logits observed: tensor([[0.0514, 0.0516]])\n",
            "Observed argmaxprediction: 1\n",
            "Predicted class : 1\n",
            "Confidence interval: 0.00018009543418884277\n"
          ]
        },
        {
          "output_type": "execute_result",
          "data": {
            "text/plain": [
              "{'evaluationlbl': 1,\n",
              " 'cnf_intr': '0.000',\n",
              " 'validationinputstr': 'You are a good person',\n",
              " 'thresholdanalysis': False,\n",
              " 'predictionresult': 'Uncertain'}"
            ]
          },
          "metadata": {},
          "execution_count": 31
        }
      ]
    },
    {
      "cell_type": "code",
      "source": [
        "robertatoxicityanalysis(contextstr=\"Have a great day\")"
      ],
      "metadata": {
        "colab": {
          "base_uri": "https://localhost:8080/"
        },
        "id": "Y-w67JWr9GnN",
        "outputId": "a9f48b47-2852-4bb0-a19a-ad6a714ae1aa"
      },
      "execution_count": 33,
      "outputs": [
        {
          "output_type": "stream",
          "name": "stderr",
          "text": [
            "Some weights of RobertaForSequenceClassification were not initialized from the model checkpoint at /content/drive/MyDrive/rbrtftmdlnew and are newly initialized: ['classifier.dense.bias', 'classifier.dense.weight', 'classifier.out_proj.bias', 'classifier.out_proj.weight']\n",
            "You should probably TRAIN this model on a down-stream task to be able to use it for predictions and inference.\n"
          ]
        },
        {
          "output_type": "stream",
          "name": "stdout",
          "text": [
            "Logits observed: tensor([[0.0344, 0.0281]])\n",
            "Observed argmaxprediction: 0\n",
            "Predicted class : 0\n",
            "Confidence interval: 0.006283704191446304\n"
          ]
        },
        {
          "output_type": "execute_result",
          "data": {
            "text/plain": [
              "{'evaluationlbl': 0,\n",
              " 'cnf_intr': '0.006',\n",
              " 'validationinputstr': 'Have a great day',\n",
              " 'thresholdanalysis': False,\n",
              " 'predictionresult': 'Uncertain'}"
            ]
          },
          "metadata": {},
          "execution_count": 33
        }
      ]
    },
    {
      "cell_type": "code",
      "source": [
        "robertatoxicityanalysis(contextstr=\"It is great day\")"
      ],
      "metadata": {
        "colab": {
          "base_uri": "https://localhost:8080/"
        },
        "id": "Qgr6xJtxpQBI",
        "outputId": "883653d3-04ca-4c4a-e29f-81b66b57f372"
      },
      "execution_count": 34,
      "outputs": [
        {
          "output_type": "stream",
          "name": "stderr",
          "text": [
            "Some weights of RobertaForSequenceClassification were not initialized from the model checkpoint at /content/drive/MyDrive/rbrtftmdlnew and are newly initialized: ['classifier.dense.bias', 'classifier.dense.weight', 'classifier.out_proj.bias', 'classifier.out_proj.weight']\n",
            "You should probably TRAIN this model on a down-stream task to be able to use it for predictions and inference.\n"
          ]
        },
        {
          "output_type": "stream",
          "name": "stdout",
          "text": [
            "Logits observed: tensor([[0.0684, 0.0110]])\n",
            "Observed argmaxprediction: 0\n",
            "Predicted class : 0\n",
            "Confidence interval: 0.05732441693544388\n"
          ]
        },
        {
          "output_type": "execute_result",
          "data": {
            "text/plain": [
              "{'evaluationlbl': 0,\n",
              " 'cnf_intr': '0.057',\n",
              " 'validationinputstr': 'It is great day',\n",
              " 'thresholdanalysis': True,\n",
              " 'predictionresult': 'Toxic'}"
            ]
          },
          "metadata": {},
          "execution_count": 34
        }
      ]
    },
    {
      "cell_type": "code",
      "source": [
        "robertatoxicityanalysis(contextstr=\"It is a great day\")"
      ],
      "metadata": {
        "colab": {
          "base_uri": "https://localhost:8080/"
        },
        "id": "Td-yuGw76DLI",
        "outputId": "9ea5cb6d-fc39-4a6d-ba91-264784039652"
      },
      "execution_count": 12,
      "outputs": [
        {
          "output_type": "stream",
          "name": "stderr",
          "text": [
            "Some weights of RobertaForSequenceClassification were not initialized from the model checkpoint at /content/drive/MyDrive/rbrtftmdlnew and are newly initialized: ['classifier.dense.bias', 'classifier.dense.weight', 'classifier.out_proj.bias', 'classifier.out_proj.weight']\n",
            "You should probably TRAIN this model on a down-stream task to be able to use it for predictions and inference.\n"
          ]
        },
        {
          "output_type": "stream",
          "name": "stdout",
          "text": [
            "Logits observed: tensor([[0.0402, 0.0267]])\n",
            "Observed argmaxprediction: 0\n",
            "Predicted class : 0\n",
            "Confidence interval: 0.01345159113407135\n"
          ]
        },
        {
          "output_type": "execute_result",
          "data": {
            "text/plain": [
              "{'evaluationlbl': 0,\n",
              " 'cnf_intr': '0.013',\n",
              " 'validationinputstr': 'It is a great day',\n",
              " 'thresholdanalysis': False,\n",
              " 'predictionresult': 'Uncertain'}"
            ]
          },
          "metadata": {},
          "execution_count": 12
        }
      ]
    },
    {
      "cell_type": "code",
      "source": [
        "testlist=[\"It is a great day\", \"You are a asshole\", \"I will kill you\", \"You should leave\",\n",
        "          \"You stupid\", \"You asshole\", \"I hate you\", \"You should die\", \"You dont deserve to be alive you worst fellow\",\n",
        "          \"This is such a horrible move I hate it\", \"You are piece of shit\", \"He is definetly a maggot\", \"He is definetly a maggot...\"]\n",
        "\n",
        "def getresponseasdf(testlist):\n",
        "    result =[]\n",
        "    for s in testlist:\n",
        "      res = robertatoxicityanalysis(s)\n",
        "      result.append(res)\n",
        "    rdf = pd.DataFrame(result)\n",
        "    return rdf"
      ],
      "metadata": {
        "id": "jdWkeILipUfi"
      },
      "execution_count": 20,
      "outputs": []
    },
    {
      "cell_type": "code",
      "source": [
        "tdf = getresponseasdf(testlist)"
      ],
      "metadata": {
        "colab": {
          "base_uri": "https://localhost:8080/"
        },
        "id": "du2OID-ZqSsz",
        "outputId": "9f492f91-1dd6-4d78-f642-6ae21869c714"
      },
      "execution_count": 21,
      "outputs": [
        {
          "output_type": "stream",
          "name": "stderr",
          "text": [
            "Some weights of RobertaForSequenceClassification were not initialized from the model checkpoint at /content/drive/MyDrive/rbrtftmdlnew and are newly initialized: ['classifier.dense.bias', 'classifier.dense.weight', 'classifier.out_proj.bias', 'classifier.out_proj.weight']\n",
            "You should probably TRAIN this model on a down-stream task to be able to use it for predictions and inference.\n"
          ]
        },
        {
          "output_type": "stream",
          "name": "stdout",
          "text": [
            "Logits observed: tensor([[0.0402, 0.0267]])\n",
            "Observed argmaxprediction: tensor([0])\n",
            "Predicted class : 0\n",
            "Confidence interval: 0.01345159113407135\n"
          ]
        },
        {
          "output_type": "stream",
          "name": "stderr",
          "text": [
            "Some weights of RobertaForSequenceClassification were not initialized from the model checkpoint at /content/drive/MyDrive/rbrtftmdlnew and are newly initialized: ['classifier.dense.bias', 'classifier.dense.weight', 'classifier.out_proj.bias', 'classifier.out_proj.weight']\n",
            "You should probably TRAIN this model on a down-stream task to be able to use it for predictions and inference.\n"
          ]
        },
        {
          "output_type": "stream",
          "name": "stdout",
          "text": [
            "Logits observed: tensor([[0.1246, 0.0348]])\n",
            "Observed argmaxprediction: tensor([0])\n",
            "Predicted class : 0\n",
            "Confidence interval: 0.0898013785481453\n"
          ]
        },
        {
          "output_type": "stream",
          "name": "stderr",
          "text": [
            "Some weights of RobertaForSequenceClassification were not initialized from the model checkpoint at /content/drive/MyDrive/rbrtftmdlnew and are newly initialized: ['classifier.dense.bias', 'classifier.dense.weight', 'classifier.out_proj.bias', 'classifier.out_proj.weight']\n",
            "You should probably TRAIN this model on a down-stream task to be able to use it for predictions and inference.\n"
          ]
        },
        {
          "output_type": "stream",
          "name": "stdout",
          "text": [
            "Logits observed: tensor([[0.1265, 0.0397]])\n",
            "Observed argmaxprediction: tensor([0])\n",
            "Predicted class : 0\n",
            "Confidence interval: 0.08674761652946472\n"
          ]
        },
        {
          "output_type": "stream",
          "name": "stderr",
          "text": [
            "Some weights of RobertaForSequenceClassification were not initialized from the model checkpoint at /content/drive/MyDrive/rbrtftmdlnew and are newly initialized: ['classifier.dense.bias', 'classifier.dense.weight', 'classifier.out_proj.bias', 'classifier.out_proj.weight']\n",
            "You should probably TRAIN this model on a down-stream task to be able to use it for predictions and inference.\n"
          ]
        },
        {
          "output_type": "stream",
          "name": "stdout",
          "text": [
            "Logits observed: tensor([[0.3652, 0.0735]])\n",
            "Observed argmaxprediction: tensor([0])\n",
            "Predicted class : 0\n",
            "Confidence interval: 0.2916775941848755\n"
          ]
        },
        {
          "output_type": "stream",
          "name": "stderr",
          "text": [
            "Some weights of RobertaForSequenceClassification were not initialized from the model checkpoint at /content/drive/MyDrive/rbrtftmdlnew and are newly initialized: ['classifier.dense.bias', 'classifier.dense.weight', 'classifier.out_proj.bias', 'classifier.out_proj.weight']\n",
            "You should probably TRAIN this model on a down-stream task to be able to use it for predictions and inference.\n"
          ]
        },
        {
          "output_type": "stream",
          "name": "stdout",
          "text": [
            "Logits observed: tensor([[0.1252, 0.0373]])\n",
            "Observed argmaxprediction: tensor([0])\n",
            "Predicted class : 0\n",
            "Confidence interval: 0.08791008591651917\n"
          ]
        },
        {
          "output_type": "stream",
          "name": "stderr",
          "text": [
            "Some weights of RobertaForSequenceClassification were not initialized from the model checkpoint at /content/drive/MyDrive/rbrtftmdlnew and are newly initialized: ['classifier.dense.bias', 'classifier.dense.weight', 'classifier.out_proj.bias', 'classifier.out_proj.weight']\n",
            "You should probably TRAIN this model on a down-stream task to be able to use it for predictions and inference.\n"
          ]
        },
        {
          "output_type": "stream",
          "name": "stdout",
          "text": [
            "Logits observed: tensor([[0.1241, 0.0364]])\n",
            "Observed argmaxprediction: tensor([0])\n",
            "Predicted class : 0\n",
            "Confidence interval: 0.087743379175663\n"
          ]
        },
        {
          "output_type": "stream",
          "name": "stderr",
          "text": [
            "Some weights of RobertaForSequenceClassification were not initialized from the model checkpoint at /content/drive/MyDrive/rbrtftmdlnew and are newly initialized: ['classifier.dense.bias', 'classifier.dense.weight', 'classifier.out_proj.bias', 'classifier.out_proj.weight']\n",
            "You should probably TRAIN this model on a down-stream task to be able to use it for predictions and inference.\n"
          ]
        },
        {
          "output_type": "stream",
          "name": "stdout",
          "text": [
            "Logits observed: tensor([[0.1256, 0.0365]])\n",
            "Observed argmaxprediction: tensor([0])\n",
            "Predicted class : 0\n",
            "Confidence interval: 0.08913567662239075\n"
          ]
        },
        {
          "output_type": "stream",
          "name": "stderr",
          "text": [
            "Some weights of RobertaForSequenceClassification were not initialized from the model checkpoint at /content/drive/MyDrive/rbrtftmdlnew and are newly initialized: ['classifier.dense.bias', 'classifier.dense.weight', 'classifier.out_proj.bias', 'classifier.out_proj.weight']\n",
            "You should probably TRAIN this model on a down-stream task to be able to use it for predictions and inference.\n"
          ]
        },
        {
          "output_type": "stream",
          "name": "stdout",
          "text": [
            "Logits observed: tensor([[0.1276, 0.0390]])\n",
            "Observed argmaxprediction: tensor([0])\n",
            "Predicted class : 0\n",
            "Confidence interval: 0.08863203227519989\n"
          ]
        },
        {
          "output_type": "stream",
          "name": "stderr",
          "text": [
            "Some weights of RobertaForSequenceClassification were not initialized from the model checkpoint at /content/drive/MyDrive/rbrtftmdlnew and are newly initialized: ['classifier.dense.bias', 'classifier.dense.weight', 'classifier.out_proj.bias', 'classifier.out_proj.weight']\n",
            "You should probably TRAIN this model on a down-stream task to be able to use it for predictions and inference.\n"
          ]
        },
        {
          "output_type": "stream",
          "name": "stdout",
          "text": [
            "Logits observed: tensor([[0.1261, 0.0379]])\n",
            "Observed argmaxprediction: tensor([0])\n",
            "Predicted class : 0\n",
            "Confidence interval: 0.08818085491657257\n"
          ]
        },
        {
          "output_type": "stream",
          "name": "stderr",
          "text": [
            "Some weights of RobertaForSequenceClassification were not initialized from the model checkpoint at /content/drive/MyDrive/rbrtftmdlnew and are newly initialized: ['classifier.dense.bias', 'classifier.dense.weight', 'classifier.out_proj.bias', 'classifier.out_proj.weight']\n",
            "You should probably TRAIN this model on a down-stream task to be able to use it for predictions and inference.\n"
          ]
        },
        {
          "output_type": "stream",
          "name": "stdout",
          "text": [
            "Logits observed: tensor([[0.1334, 0.0394]])\n",
            "Observed argmaxprediction: tensor([0])\n",
            "Predicted class : 0\n",
            "Confidence interval: 0.09398441016674042\n"
          ]
        },
        {
          "output_type": "stream",
          "name": "stderr",
          "text": [
            "Some weights of RobertaForSequenceClassification were not initialized from the model checkpoint at /content/drive/MyDrive/rbrtftmdlnew and are newly initialized: ['classifier.dense.bias', 'classifier.dense.weight', 'classifier.out_proj.bias', 'classifier.out_proj.weight']\n",
            "You should probably TRAIN this model on a down-stream task to be able to use it for predictions and inference.\n"
          ]
        },
        {
          "output_type": "stream",
          "name": "stdout",
          "text": [
            "Logits observed: tensor([[0.1251, 0.0348]])\n",
            "Observed argmaxprediction: tensor([0])\n",
            "Predicted class : 0\n",
            "Confidence interval: 0.09032373130321503\n"
          ]
        },
        {
          "output_type": "stream",
          "name": "stderr",
          "text": [
            "Some weights of RobertaForSequenceClassification were not initialized from the model checkpoint at /content/drive/MyDrive/rbrtftmdlnew and are newly initialized: ['classifier.dense.bias', 'classifier.dense.weight', 'classifier.out_proj.bias', 'classifier.out_proj.weight']\n",
            "You should probably TRAIN this model on a down-stream task to be able to use it for predictions and inference.\n"
          ]
        },
        {
          "output_type": "stream",
          "name": "stdout",
          "text": [
            "Logits observed: tensor([[0.1244, 0.0359]])\n",
            "Observed argmaxprediction: tensor([0])\n",
            "Predicted class : 0\n",
            "Confidence interval: 0.08846254646778107\n"
          ]
        },
        {
          "output_type": "stream",
          "name": "stderr",
          "text": [
            "Some weights of RobertaForSequenceClassification were not initialized from the model checkpoint at /content/drive/MyDrive/rbrtftmdlnew and are newly initialized: ['classifier.dense.bias', 'classifier.dense.weight', 'classifier.out_proj.bias', 'classifier.out_proj.weight']\n",
            "You should probably TRAIN this model on a down-stream task to be able to use it for predictions and inference.\n"
          ]
        },
        {
          "output_type": "stream",
          "name": "stdout",
          "text": [
            "Logits observed: tensor([[0.1242, 0.0360]])\n",
            "Observed argmaxprediction: tensor([0])\n",
            "Predicted class : 0\n",
            "Confidence interval: 0.08816882967948914\n"
          ]
        }
      ]
    },
    {
      "cell_type": "code",
      "source": [
        "tdf"
      ],
      "metadata": {
        "colab": {
          "base_uri": "https://localhost:8080/",
          "height": 457
        },
        "id": "mRwXQQDKqXoj",
        "outputId": "562d0060-8c0c-4978-ac46-842577d18fb3"
      },
      "execution_count": 22,
      "outputs": [
        {
          "output_type": "execute_result",
          "data": {
            "text/plain": [
              "    evaluationlbl cnf_intr                             validationinputstr  \\\n",
              "0               0    0.013                              It is a great day   \n",
              "1               0    0.090                              You are a asshole   \n",
              "2               0    0.087                                I will kill you   \n",
              "3               0    0.292                               You should leave   \n",
              "4               0    0.088                                     You stupid   \n",
              "5               0    0.088                                    You asshole   \n",
              "6               0    0.089                                     I hate you   \n",
              "7               0    0.089                                 You should die   \n",
              "8               0    0.088  You dont deserve to be alive you worst fellow   \n",
              "9               0    0.094         This is such a horrible move I hate it   \n",
              "10              0    0.090                          You are piece of shit   \n",
              "11              0    0.088                       He is definetly a maggot   \n",
              "12              0    0.088                    He is definetly a maggot...   \n",
              "\n",
              "    thresholdanalysis predictionresult  \n",
              "0               False        Uncertain  \n",
              "1                True            Toxic  \n",
              "2                True            Toxic  \n",
              "3                True            Toxic  \n",
              "4                True            Toxic  \n",
              "5                True            Toxic  \n",
              "6                True            Toxic  \n",
              "7                True            Toxic  \n",
              "8                True            Toxic  \n",
              "9                True            Toxic  \n",
              "10               True            Toxic  \n",
              "11               True            Toxic  \n",
              "12               True            Toxic  "
            ],
            "text/html": [
              "\n",
              "  <div id=\"df-ed1af583-1f20-423f-910e-c7833202dbac\" class=\"colab-df-container\">\n",
              "    <div>\n",
              "<style scoped>\n",
              "    .dataframe tbody tr th:only-of-type {\n",
              "        vertical-align: middle;\n",
              "    }\n",
              "\n",
              "    .dataframe tbody tr th {\n",
              "        vertical-align: top;\n",
              "    }\n",
              "\n",
              "    .dataframe thead th {\n",
              "        text-align: right;\n",
              "    }\n",
              "</style>\n",
              "<table border=\"1\" class=\"dataframe\">\n",
              "  <thead>\n",
              "    <tr style=\"text-align: right;\">\n",
              "      <th></th>\n",
              "      <th>evaluationlbl</th>\n",
              "      <th>cnf_intr</th>\n",
              "      <th>validationinputstr</th>\n",
              "      <th>thresholdanalysis</th>\n",
              "      <th>predictionresult</th>\n",
              "    </tr>\n",
              "  </thead>\n",
              "  <tbody>\n",
              "    <tr>\n",
              "      <th>0</th>\n",
              "      <td>0</td>\n",
              "      <td>0.013</td>\n",
              "      <td>It is a great day</td>\n",
              "      <td>False</td>\n",
              "      <td>Uncertain</td>\n",
              "    </tr>\n",
              "    <tr>\n",
              "      <th>1</th>\n",
              "      <td>0</td>\n",
              "      <td>0.090</td>\n",
              "      <td>You are a asshole</td>\n",
              "      <td>True</td>\n",
              "      <td>Toxic</td>\n",
              "    </tr>\n",
              "    <tr>\n",
              "      <th>2</th>\n",
              "      <td>0</td>\n",
              "      <td>0.087</td>\n",
              "      <td>I will kill you</td>\n",
              "      <td>True</td>\n",
              "      <td>Toxic</td>\n",
              "    </tr>\n",
              "    <tr>\n",
              "      <th>3</th>\n",
              "      <td>0</td>\n",
              "      <td>0.292</td>\n",
              "      <td>You should leave</td>\n",
              "      <td>True</td>\n",
              "      <td>Toxic</td>\n",
              "    </tr>\n",
              "    <tr>\n",
              "      <th>4</th>\n",
              "      <td>0</td>\n",
              "      <td>0.088</td>\n",
              "      <td>You stupid</td>\n",
              "      <td>True</td>\n",
              "      <td>Toxic</td>\n",
              "    </tr>\n",
              "    <tr>\n",
              "      <th>5</th>\n",
              "      <td>0</td>\n",
              "      <td>0.088</td>\n",
              "      <td>You asshole</td>\n",
              "      <td>True</td>\n",
              "      <td>Toxic</td>\n",
              "    </tr>\n",
              "    <tr>\n",
              "      <th>6</th>\n",
              "      <td>0</td>\n",
              "      <td>0.089</td>\n",
              "      <td>I hate you</td>\n",
              "      <td>True</td>\n",
              "      <td>Toxic</td>\n",
              "    </tr>\n",
              "    <tr>\n",
              "      <th>7</th>\n",
              "      <td>0</td>\n",
              "      <td>0.089</td>\n",
              "      <td>You should die</td>\n",
              "      <td>True</td>\n",
              "      <td>Toxic</td>\n",
              "    </tr>\n",
              "    <tr>\n",
              "      <th>8</th>\n",
              "      <td>0</td>\n",
              "      <td>0.088</td>\n",
              "      <td>You dont deserve to be alive you worst fellow</td>\n",
              "      <td>True</td>\n",
              "      <td>Toxic</td>\n",
              "    </tr>\n",
              "    <tr>\n",
              "      <th>9</th>\n",
              "      <td>0</td>\n",
              "      <td>0.094</td>\n",
              "      <td>This is such a horrible move I hate it</td>\n",
              "      <td>True</td>\n",
              "      <td>Toxic</td>\n",
              "    </tr>\n",
              "    <tr>\n",
              "      <th>10</th>\n",
              "      <td>0</td>\n",
              "      <td>0.090</td>\n",
              "      <td>You are piece of shit</td>\n",
              "      <td>True</td>\n",
              "      <td>Toxic</td>\n",
              "    </tr>\n",
              "    <tr>\n",
              "      <th>11</th>\n",
              "      <td>0</td>\n",
              "      <td>0.088</td>\n",
              "      <td>He is definetly a maggot</td>\n",
              "      <td>True</td>\n",
              "      <td>Toxic</td>\n",
              "    </tr>\n",
              "    <tr>\n",
              "      <th>12</th>\n",
              "      <td>0</td>\n",
              "      <td>0.088</td>\n",
              "      <td>He is definetly a maggot...</td>\n",
              "      <td>True</td>\n",
              "      <td>Toxic</td>\n",
              "    </tr>\n",
              "  </tbody>\n",
              "</table>\n",
              "</div>\n",
              "    <div class=\"colab-df-buttons\">\n",
              "\n",
              "  <div class=\"colab-df-container\">\n",
              "    <button class=\"colab-df-convert\" onclick=\"convertToInteractive('df-ed1af583-1f20-423f-910e-c7833202dbac')\"\n",
              "            title=\"Convert this dataframe to an interactive table.\"\n",
              "            style=\"display:none;\">\n",
              "\n",
              "  <svg xmlns=\"http://www.w3.org/2000/svg\" height=\"24px\" viewBox=\"0 -960 960 960\">\n",
              "    <path d=\"M120-120v-720h720v720H120Zm60-500h600v-160H180v160Zm220 220h160v-160H400v160Zm0 220h160v-160H400v160ZM180-400h160v-160H180v160Zm440 0h160v-160H620v160ZM180-180h160v-160H180v160Zm440 0h160v-160H620v160Z\"/>\n",
              "  </svg>\n",
              "    </button>\n",
              "\n",
              "  <style>\n",
              "    .colab-df-container {\n",
              "      display:flex;\n",
              "      gap: 12px;\n",
              "    }\n",
              "\n",
              "    .colab-df-convert {\n",
              "      background-color: #E8F0FE;\n",
              "      border: none;\n",
              "      border-radius: 50%;\n",
              "      cursor: pointer;\n",
              "      display: none;\n",
              "      fill: #1967D2;\n",
              "      height: 32px;\n",
              "      padding: 0 0 0 0;\n",
              "      width: 32px;\n",
              "    }\n",
              "\n",
              "    .colab-df-convert:hover {\n",
              "      background-color: #E2EBFA;\n",
              "      box-shadow: 0px 1px 2px rgba(60, 64, 67, 0.3), 0px 1px 3px 1px rgba(60, 64, 67, 0.15);\n",
              "      fill: #174EA6;\n",
              "    }\n",
              "\n",
              "    .colab-df-buttons div {\n",
              "      margin-bottom: 4px;\n",
              "    }\n",
              "\n",
              "    [theme=dark] .colab-df-convert {\n",
              "      background-color: #3B4455;\n",
              "      fill: #D2E3FC;\n",
              "    }\n",
              "\n",
              "    [theme=dark] .colab-df-convert:hover {\n",
              "      background-color: #434B5C;\n",
              "      box-shadow: 0px 1px 3px 1px rgba(0, 0, 0, 0.15);\n",
              "      filter: drop-shadow(0px 1px 2px rgba(0, 0, 0, 0.3));\n",
              "      fill: #FFFFFF;\n",
              "    }\n",
              "  </style>\n",
              "\n",
              "    <script>\n",
              "      const buttonEl =\n",
              "        document.querySelector('#df-ed1af583-1f20-423f-910e-c7833202dbac button.colab-df-convert');\n",
              "      buttonEl.style.display =\n",
              "        google.colab.kernel.accessAllowed ? 'block' : 'none';\n",
              "\n",
              "      async function convertToInteractive(key) {\n",
              "        const element = document.querySelector('#df-ed1af583-1f20-423f-910e-c7833202dbac');\n",
              "        const dataTable =\n",
              "          await google.colab.kernel.invokeFunction('convertToInteractive',\n",
              "                                                    [key], {});\n",
              "        if (!dataTable) return;\n",
              "\n",
              "        const docLinkHtml = 'Like what you see? Visit the ' +\n",
              "          '<a target=\"_blank\" href=https://colab.research.google.com/notebooks/data_table.ipynb>data table notebook</a>'\n",
              "          + ' to learn more about interactive tables.';\n",
              "        element.innerHTML = '';\n",
              "        dataTable['output_type'] = 'display_data';\n",
              "        await google.colab.output.renderOutput(dataTable, element);\n",
              "        const docLink = document.createElement('div');\n",
              "        docLink.innerHTML = docLinkHtml;\n",
              "        element.appendChild(docLink);\n",
              "      }\n",
              "    </script>\n",
              "  </div>\n",
              "\n",
              "\n",
              "<div id=\"df-9648d659-05fc-43e1-8f27-110215aafaff\">\n",
              "  <button class=\"colab-df-quickchart\" onclick=\"quickchart('df-9648d659-05fc-43e1-8f27-110215aafaff')\"\n",
              "            title=\"Suggest charts\"\n",
              "            style=\"display:none;\">\n",
              "\n",
              "<svg xmlns=\"http://www.w3.org/2000/svg\" height=\"24px\"viewBox=\"0 0 24 24\"\n",
              "     width=\"24px\">\n",
              "    <g>\n",
              "        <path d=\"M19 3H5c-1.1 0-2 .9-2 2v14c0 1.1.9 2 2 2h14c1.1 0 2-.9 2-2V5c0-1.1-.9-2-2-2zM9 17H7v-7h2v7zm4 0h-2V7h2v10zm4 0h-2v-4h2v4z\"/>\n",
              "    </g>\n",
              "</svg>\n",
              "  </button>\n",
              "\n",
              "<style>\n",
              "  .colab-df-quickchart {\n",
              "      --bg-color: #E8F0FE;\n",
              "      --fill-color: #1967D2;\n",
              "      --hover-bg-color: #E2EBFA;\n",
              "      --hover-fill-color: #174EA6;\n",
              "      --disabled-fill-color: #AAA;\n",
              "      --disabled-bg-color: #DDD;\n",
              "  }\n",
              "\n",
              "  [theme=dark] .colab-df-quickchart {\n",
              "      --bg-color: #3B4455;\n",
              "      --fill-color: #D2E3FC;\n",
              "      --hover-bg-color: #434B5C;\n",
              "      --hover-fill-color: #FFFFFF;\n",
              "      --disabled-bg-color: #3B4455;\n",
              "      --disabled-fill-color: #666;\n",
              "  }\n",
              "\n",
              "  .colab-df-quickchart {\n",
              "    background-color: var(--bg-color);\n",
              "    border: none;\n",
              "    border-radius: 50%;\n",
              "    cursor: pointer;\n",
              "    display: none;\n",
              "    fill: var(--fill-color);\n",
              "    height: 32px;\n",
              "    padding: 0;\n",
              "    width: 32px;\n",
              "  }\n",
              "\n",
              "  .colab-df-quickchart:hover {\n",
              "    background-color: var(--hover-bg-color);\n",
              "    box-shadow: 0 1px 2px rgba(60, 64, 67, 0.3), 0 1px 3px 1px rgba(60, 64, 67, 0.15);\n",
              "    fill: var(--button-hover-fill-color);\n",
              "  }\n",
              "\n",
              "  .colab-df-quickchart-complete:disabled,\n",
              "  .colab-df-quickchart-complete:disabled:hover {\n",
              "    background-color: var(--disabled-bg-color);\n",
              "    fill: var(--disabled-fill-color);\n",
              "    box-shadow: none;\n",
              "  }\n",
              "\n",
              "  .colab-df-spinner {\n",
              "    border: 2px solid var(--fill-color);\n",
              "    border-color: transparent;\n",
              "    border-bottom-color: var(--fill-color);\n",
              "    animation:\n",
              "      spin 1s steps(1) infinite;\n",
              "  }\n",
              "\n",
              "  @keyframes spin {\n",
              "    0% {\n",
              "      border-color: transparent;\n",
              "      border-bottom-color: var(--fill-color);\n",
              "      border-left-color: var(--fill-color);\n",
              "    }\n",
              "    20% {\n",
              "      border-color: transparent;\n",
              "      border-left-color: var(--fill-color);\n",
              "      border-top-color: var(--fill-color);\n",
              "    }\n",
              "    30% {\n",
              "      border-color: transparent;\n",
              "      border-left-color: var(--fill-color);\n",
              "      border-top-color: var(--fill-color);\n",
              "      border-right-color: var(--fill-color);\n",
              "    }\n",
              "    40% {\n",
              "      border-color: transparent;\n",
              "      border-right-color: var(--fill-color);\n",
              "      border-top-color: var(--fill-color);\n",
              "    }\n",
              "    60% {\n",
              "      border-color: transparent;\n",
              "      border-right-color: var(--fill-color);\n",
              "    }\n",
              "    80% {\n",
              "      border-color: transparent;\n",
              "      border-right-color: var(--fill-color);\n",
              "      border-bottom-color: var(--fill-color);\n",
              "    }\n",
              "    90% {\n",
              "      border-color: transparent;\n",
              "      border-bottom-color: var(--fill-color);\n",
              "    }\n",
              "  }\n",
              "</style>\n",
              "\n",
              "  <script>\n",
              "    async function quickchart(key) {\n",
              "      const quickchartButtonEl =\n",
              "        document.querySelector('#' + key + ' button');\n",
              "      quickchartButtonEl.disabled = true;  // To prevent multiple clicks.\n",
              "      quickchartButtonEl.classList.add('colab-df-spinner');\n",
              "      try {\n",
              "        const charts = await google.colab.kernel.invokeFunction(\n",
              "            'suggestCharts', [key], {});\n",
              "      } catch (error) {\n",
              "        console.error('Error during call to suggestCharts:', error);\n",
              "      }\n",
              "      quickchartButtonEl.classList.remove('colab-df-spinner');\n",
              "      quickchartButtonEl.classList.add('colab-df-quickchart-complete');\n",
              "    }\n",
              "    (() => {\n",
              "      let quickchartButtonEl =\n",
              "        document.querySelector('#df-9648d659-05fc-43e1-8f27-110215aafaff button');\n",
              "      quickchartButtonEl.style.display =\n",
              "        google.colab.kernel.accessAllowed ? 'block' : 'none';\n",
              "    })();\n",
              "  </script>\n",
              "</div>\n",
              "\n",
              "  <div id=\"id_50d82d33-7693-4d32-ad70-c66cd286e7b4\">\n",
              "    <style>\n",
              "      .colab-df-generate {\n",
              "        background-color: #E8F0FE;\n",
              "        border: none;\n",
              "        border-radius: 50%;\n",
              "        cursor: pointer;\n",
              "        display: none;\n",
              "        fill: #1967D2;\n",
              "        height: 32px;\n",
              "        padding: 0 0 0 0;\n",
              "        width: 32px;\n",
              "      }\n",
              "\n",
              "      .colab-df-generate:hover {\n",
              "        background-color: #E2EBFA;\n",
              "        box-shadow: 0px 1px 2px rgba(60, 64, 67, 0.3), 0px 1px 3px 1px rgba(60, 64, 67, 0.15);\n",
              "        fill: #174EA6;\n",
              "      }\n",
              "\n",
              "      [theme=dark] .colab-df-generate {\n",
              "        background-color: #3B4455;\n",
              "        fill: #D2E3FC;\n",
              "      }\n",
              "\n",
              "      [theme=dark] .colab-df-generate:hover {\n",
              "        background-color: #434B5C;\n",
              "        box-shadow: 0px 1px 3px 1px rgba(0, 0, 0, 0.15);\n",
              "        filter: drop-shadow(0px 1px 2px rgba(0, 0, 0, 0.3));\n",
              "        fill: #FFFFFF;\n",
              "      }\n",
              "    </style>\n",
              "    <button class=\"colab-df-generate\" onclick=\"generateWithVariable('tdf')\"\n",
              "            title=\"Generate code using this dataframe.\"\n",
              "            style=\"display:none;\">\n",
              "\n",
              "  <svg xmlns=\"http://www.w3.org/2000/svg\" height=\"24px\"viewBox=\"0 0 24 24\"\n",
              "       width=\"24px\">\n",
              "    <path d=\"M7,19H8.4L18.45,9,17,7.55,7,17.6ZM5,21V16.75L18.45,3.32a2,2,0,0,1,2.83,0l1.4,1.43a1.91,1.91,0,0,1,.58,1.4,1.91,1.91,0,0,1-.58,1.4L9.25,21ZM18.45,9,17,7.55Zm-12,3A5.31,5.31,0,0,0,4.9,8.1,5.31,5.31,0,0,0,1,6.5,5.31,5.31,0,0,0,4.9,4.9,5.31,5.31,0,0,0,6.5,1,5.31,5.31,0,0,0,8.1,4.9,5.31,5.31,0,0,0,12,6.5,5.46,5.46,0,0,0,6.5,12Z\"/>\n",
              "  </svg>\n",
              "    </button>\n",
              "    <script>\n",
              "      (() => {\n",
              "      const buttonEl =\n",
              "        document.querySelector('#id_50d82d33-7693-4d32-ad70-c66cd286e7b4 button.colab-df-generate');\n",
              "      buttonEl.style.display =\n",
              "        google.colab.kernel.accessAllowed ? 'block' : 'none';\n",
              "\n",
              "      buttonEl.onclick = () => {\n",
              "        google.colab.notebook.generateWithVariable('tdf');\n",
              "      }\n",
              "      })();\n",
              "    </script>\n",
              "  </div>\n",
              "\n",
              "    </div>\n",
              "  </div>\n"
            ],
            "application/vnd.google.colaboratory.intrinsic+json": {
              "type": "dataframe",
              "variable_name": "tdf",
              "summary": "{\n  \"name\": \"tdf\",\n  \"rows\": 13,\n  \"fields\": [\n    {\n      \"column\": \"evaluationlbl\",\n      \"properties\": {\n        \"dtype\": \"number\",\n        \"std\": 0,\n        \"min\": 0,\n        \"max\": 0,\n        \"num_unique_values\": 1,\n        \"samples\": [\n          0\n        ],\n        \"semantic_type\": \"\",\n        \"description\": \"\"\n      }\n    },\n    {\n      \"column\": \"cnf_intr\",\n      \"properties\": {\n        \"dtype\": \"string\",\n        \"num_unique_values\": 7,\n        \"samples\": [\n          \"0.013\"\n        ],\n        \"semantic_type\": \"\",\n        \"description\": \"\"\n      }\n    },\n    {\n      \"column\": \"validationinputstr\",\n      \"properties\": {\n        \"dtype\": \"string\",\n        \"num_unique_values\": 13,\n        \"samples\": [\n          \"He is definetly a maggot\"\n        ],\n        \"semantic_type\": \"\",\n        \"description\": \"\"\n      }\n    },\n    {\n      \"column\": \"thresholdanalysis\",\n      \"properties\": {\n        \"dtype\": \"boolean\",\n        \"num_unique_values\": 2,\n        \"samples\": [\n          true\n        ],\n        \"semantic_type\": \"\",\n        \"description\": \"\"\n      }\n    },\n    {\n      \"column\": \"predictionresult\",\n      \"properties\": {\n        \"dtype\": \"category\",\n        \"num_unique_values\": 2,\n        \"samples\": [\n          \"Toxic\"\n        ],\n        \"semantic_type\": \"\",\n        \"description\": \"\"\n      }\n    }\n  ]\n}"
            }
          },
          "metadata": {},
          "execution_count": 22
        }
      ]
    }
  ]
}